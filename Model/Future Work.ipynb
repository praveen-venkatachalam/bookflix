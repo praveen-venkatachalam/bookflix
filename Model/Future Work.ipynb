{
 "cells": [
  {
   "cell_type": "code",
   "execution_count": null,
   "id": "6d665a2d",
   "metadata": {},
   "outputs": [],
   "source": [
    "import numpy as np\n",
    "from sklearn.neighbors import NearestNeighbors\n",
    "from sklearn.feature_extraction.text import TfidfVectorizer\n",
    "from sklearn.metrics.pairwise import cosine_similarity"
   ]
  },
  {
   "cell_type": "code",
   "execution_count": null,
   "id": "148ad23f",
   "metadata": {},
   "outputs": [],
   "source": [
    "Load the book data and create a sparse matrix of user ratings\n",
    "book_sparse = book_pivot\n",
    "\n",
    "# Compute the cosine similarity matrix between the books\n",
    "book_sim = cosine_similarity(book_sparse)\n",
    "\n",
    "# Train a nearest neighbors model using the similarity matrix\n",
    "knn = NearestNeighbors(metric='cosine', algorithm='brute')\n",
    "knn.fit(book_sim)"
   ]
  },
  {
   "cell_type": "code",
   "execution_count": null,
   "id": "fa85992c",
   "metadata": {},
   "outputs": [],
   "source": [
    "# Load the book metadata and vectorize it using TF-IDF\n",
    "book_data = books\n",
    "book_data.fillna('', inplace=True)  # Replace NaNs with empty strings\n",
    "vectorizer = TfidfVectorizer()\n",
    "book_features = vectorizer.fit_transform(book_data['title'] + \" \" + book_data['author'])"
   ]
  },
  {
   "cell_type": "code",
   "execution_count": null,
   "id": "2c06323a",
   "metadata": {},
   "outputs": [],
   "source": [
    "# Compute the cosine similarity matrix between the book features\n",
    "feature_sim = cosine_similarity(book_features)"
   ]
  },
  {
   "cell_type": "code",
   "execution_count": null,
   "id": "1e6722b2",
   "metadata": {},
   "outputs": [],
   "source": [
    "Define a function that combines the similarity scores from both models\n",
    "def hybrid_similarity(user_index, book_index):\n",
    "    # Compute the collaborative filtering similarity score\n",
    "    cf_sim = knn.kneighbors([book_sim[book_index]], return_distance=False)[0]\n",
    "    cf_sim = np.mean([book_sim[book_index][i] for i in cf_sim])\n",
    "\n",
    "    # Compute the content-based filtering similarity score\n",
    "    cb_sim = feature_sim[book_index][user_index]\n",
    "\n",
    "    # Combine the similarity scores using a weighted average\n",
    "    similarity = 0.8 * cf_sim + 0.2 * cb_sim\n",
    "\n",
    "    return similarity"
   ]
  },
  {
   "cell_type": "code",
   "execution_count": null,
   "id": "911bc92a",
   "metadata": {},
   "outputs": [],
   "source": [
    "# Define a function that recommends books to a user\n",
    "def recommend_books(user_index, n_recommendations=10):\n",
    "    # Compute the similarity scores between the user and all the books\n",
    "    user_sim = np.apply_along_axis(hybrid_similarity, axis=1, arr=book_sparse, book_index=user_index)\n",
    "\n",
    "    # Sort the books by their similarity scores\n",
    "    sorted_books = np.argsort(user_sim)[::-1]\n",
    "\n",
    "    # Get the top recommended books\n",
    "    recommendations = sorted_books[:n_recommendations]\n",
    "\n",
    "    return recommendations"
   ]
  },
  {
   "cell_type": "code",
   "execution_count": null,
   "id": "b5f70517",
   "metadata": {},
   "outputs": [],
   "source": []
  }
 ],
 "metadata": {
  "kernelspec": {
   "display_name": "Python 3 (ipykernel)",
   "language": "python",
   "name": "python3"
  },
  "language_info": {
   "codemirror_mode": {
    "name": "ipython",
    "version": 3
   },
   "file_extension": ".py",
   "mimetype": "text/x-python",
   "name": "python",
   "nbconvert_exporter": "python",
   "pygments_lexer": "ipython3",
   "version": "3.9.13"
  }
 },
 "nbformat": 4,
 "nbformat_minor": 5
}
